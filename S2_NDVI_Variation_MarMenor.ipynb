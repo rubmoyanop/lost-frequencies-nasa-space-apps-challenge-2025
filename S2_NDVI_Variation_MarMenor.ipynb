{
 "cells": [
  {
   "cell_type": "markdown",
   "id": "751e23b5",
   "metadata": {},
   "source": [
    "# Sentinel-2 NDVI and Agricultural Monitoring over Mar Menor\n",
    "\n",
    "This notebook analyses Sentinel-2 optical imagery to monitor vegetation and agricultural activity in the Mar Menor region (SE Spain).\n",
    "It computes NDVI composites and time series for selected areas, quantifies pixel-wise variance, and allows masking and visualization of vegetated zones.\n",
    "A time series of mean NDVI for a sample field is generated and plotted. Outputs include NDVI maps, a time-series plot, and the option to export results as GeoTIFF.\n",
    "\n",
    "Requirements: authenticated Google Earth Engine account and geemap installed for interactive mapping. Run the cells sequentially and expect remote calls (reduceRegion / getInfo) to take time.\n"
   ]
  },
  {
   "cell_type": "code",
   "execution_count": 1,
   "id": "b670265a",
   "metadata": {},
   "outputs": [],
   "source": [
    "# Imports and Earth Engine initialization\n",
    "import ee\n",
    "import geemap\n",
    "import datetime\n",
    "\n",
    "# Initialize the Earth Engine API (authenticate if needed)\n",
    "try:\n",
    "    ee.Initialize()\n",
    "except Exception:\n",
    "    ee.Authenticate()\n",
    "    ee.Initialize()\n",
    "\n",
    "# Define the area of interest (Mar Menor bounding rectangle) and comparison periods\n",
    "mar_menor_aoi = ee.Geometry.Polygon([\n",
    "    [\n",
    "        [-0.7525010397061688, 37.88948999937322],\n",
    "        [-0.8060344170800802, 37.89141594762948],\n",
    "        [-0.9369668300256822, 37.84237282648271],\n",
    "        [-1.0082296404312558, 37.769738583926646],\n",
    "        [-1.0376769713508793, 37.74073202619191],\n",
    "        [-1.0341435939769678, 37.68720630363401],\n",
    "        [-1.0102841247516163, 37.65777126035968],\n",
    "        [-0.9189328193280476, 37.55604663597647],\n",
    "        [-0.718559540295739, 37.60522151419349],\n",
    "        [-0.6905554748006199, 37.63584518455255],\n",
    "        [-0.7525010397061688, 37.88948999937322] \n",
    "    ]\n",
    "])\n",
    "\n",
    "# Define objective time periods\n",
    "obj_date = '2019-09-15'\n",
    "obj_date_dt = datetime.datetime.strptime(obj_date, \"%Y-%m-%d\")\n",
    "start_date = (obj_date_dt - datetime.timedelta(days=20)).strftime(\"%Y-%m-%d\")\n",
    "end_date = (obj_date_dt + datetime.timedelta(days=20)).strftime(\"%Y-%m-%d\")"
   ]
  },
  {
   "cell_type": "markdown",
   "id": "cc5d7461",
   "metadata": {},
   "source": [
    "### Collection preparation and edge masking\n",
    "Create the Sentinel-2 collection for the AOI and period of interest, filtering by cloud cover and spatial bounds. Although edge masking is more critical for SAR data, a simple maskEdge function is included for completeness and to maintain consistency with other analyses. You can check the collection size after running and adjust filters or masking as needed to optimize the quality of the composites."
   ]
  },
  {
   "cell_type": "code",
   "execution_count": 2,
   "id": "83e6606d",
   "metadata": {},
   "outputs": [
    {
     "data": {
      "text/html": [
       "\n",
       "            <style>\n",
       "                .geemap-dark {\n",
       "                    --jp-widgets-color: white;\n",
       "                    --jp-widgets-label-color: white;\n",
       "                    --jp-ui-font-color1: white;\n",
       "                    --jp-layout-color2: #454545;\n",
       "                    background-color: #383838;\n",
       "                }\n",
       "\n",
       "                .geemap-dark .jupyter-button {\n",
       "                    --jp-layout-color3: #383838;\n",
       "                }\n",
       "\n",
       "                .geemap-colab {\n",
       "                    background-color: var(--colab-primary-surface-color, white);\n",
       "                }\n",
       "\n",
       "                .geemap-colab .jupyter-button {\n",
       "                    --jp-layout-color3: var(--colab-primary-surface-color, white);\n",
       "                }\n",
       "            </style>\n",
       "            "
      ],
      "text/plain": [
       "<IPython.core.display.HTML object>"
      ]
     },
     "metadata": {},
     "output_type": "display_data"
    },
    {
     "name": "stderr",
     "output_type": "stream",
     "text": [
      "C:\\Users\\jorge\\AppData\\Local\\Packages\\PythonSoftwareFoundation.Python.3.13_qbz5n2kfra8p0\\LocalCache\\local-packages\\Python313\\site-packages\\ee\\deprecation.py:209: DeprecationWarning: \n",
      "\n",
      "Attention required for COPERNICUS/S2_SR! You are using a deprecated asset.\n",
      "To make sure your code keeps working, please update it.\n",
      "Learn more: https://developers.google.com/earth-engine/datasets/catalog/COPERNICUS_S2_SR\n",
      "\n",
      "  warnings.warn(warning, category=DeprecationWarning)\n"
     ]
    }
   ],
   "source": [
    "\n",
    "# Function to mask the edges of Sentinel-1 images (improves quality)\n",
    "def maskEdge(image):\n",
    "    edge = image.lt(-30.0)\n",
    "    maskedImage = image.mask().And(edge.Not())\n",
    "    return image.updateMask(maskedImage)\n",
    "\n",
    "# Load Sentinel-2 data\n",
    "sentinel2_base_collection = (\n",
    "    ee.ImageCollection('COPERNICUS/S2_SR')  # Use the Sentinel-2 Surface Reflectance collection\n",
    "    .filterBounds(mar_menor_aoi)\n",
    "    .filterDate(start_date, end_date)\n",
    "    .filter(ee.Filter.lt('CLOUDY_PIXEL_PERCENTAGE', 30))  # Filter images with less than 20% clouds\n",
    ")"
   ]
  },
  {
   "cell_type": "markdown",
   "id": "a133a422",
   "metadata": {},
   "source": [
    "### Filtering the Sentinel-2 collection for the 2019 summer season\n",
    "\n",
    "For this analysis, we focus on the summer of 2019. The Sentinel-2 image collection is filtered for this period and the area of interest. We select images matching the date range and spatial bounds, then compute the median composite to reduce cloud and noise effects. This provides a representative image for the 2019 season, which will be used for NDVI and land cover analysis."
   ]
  },
  {
   "cell_type": "code",
   "execution_count": 3,
   "id": "01c04c20",
   "metadata": {},
   "outputs": [
    {
     "data": {
      "text/html": [
       "\n",
       "            <style>\n",
       "                .geemap-dark {\n",
       "                    --jp-widgets-color: white;\n",
       "                    --jp-widgets-label-color: white;\n",
       "                    --jp-ui-font-color1: white;\n",
       "                    --jp-layout-color2: #454545;\n",
       "                    background-color: #383838;\n",
       "                }\n",
       "\n",
       "                .geemap-dark .jupyter-button {\n",
       "                    --jp-layout-color3: #383838;\n",
       "                }\n",
       "\n",
       "                .geemap-colab {\n",
       "                    background-color: var(--colab-primary-surface-color, white);\n",
       "                }\n",
       "\n",
       "                .geemap-colab .jupyter-button {\n",
       "                    --jp-layout-color3: var(--colab-primary-surface-color, white);\n",
       "                }\n",
       "            </style>\n",
       "            "
      ],
      "text/plain": [
       "<IPython.core.display.HTML object>"
      ]
     },
     "metadata": {},
     "output_type": "display_data"
    }
   ],
   "source": [
    "\n",
    "# Filter the collection for summer 2019 and calculate the median\n",
    "verano_2019_collection = sentinel2_base_collection.filterDate(start_date, end_date)\n",
    "verano_2019_median = verano_2019_collection.median().clip(mar_menor_aoi)"
   ]
  },
  {
   "cell_type": "markdown",
   "id": "bd109b68",
   "metadata": {},
   "source": [
    "### NDVI as an intermediate analysis layer\n",
    "\n",
    "The NDVI is calculated here as an intermediate product to support further analysis, rather than as a final layer for the main map viewer. By running the next cell, you can preview the NDVI for the selected period and area, which helps to quickly assess vegetation patterns before more advanced processing or visualization steps."
   ]
  },
  {
   "cell_type": "code",
   "execution_count": 4,
   "id": "e2bf0406",
   "metadata": {},
   "outputs": [
    {
     "data": {
      "text/html": [
       "\n",
       "            <style>\n",
       "                .geemap-dark {\n",
       "                    --jp-widgets-color: white;\n",
       "                    --jp-widgets-label-color: white;\n",
       "                    --jp-ui-font-color1: white;\n",
       "                    --jp-layout-color2: #454545;\n",
       "                    background-color: #383838;\n",
       "                }\n",
       "\n",
       "                .geemap-dark .jupyter-button {\n",
       "                    --jp-layout-color3: #383838;\n",
       "                }\n",
       "\n",
       "                .geemap-colab {\n",
       "                    background-color: var(--colab-primary-surface-color, white);\n",
       "                }\n",
       "\n",
       "                .geemap-colab .jupyter-button {\n",
       "                    --jp-layout-color3: var(--colab-primary-surface-color, white);\n",
       "                }\n",
       "            </style>\n",
       "            "
      ],
      "text/plain": [
       "<IPython.core.display.HTML object>"
      ]
     },
     "metadata": {},
     "output_type": "display_data"
    },
    {
     "data": {
      "application/vnd.jupyter.widget-view+json": {
       "model_id": "62c79533ca4a43ed90f83832f540120a",
       "version_major": 2,
       "version_minor": 0
      },
      "text/plain": [
       "Map(center=[37.75, -0.85], controls=(WidgetControl(options=['position', 'transparent_bg'], position='topright'…"
      ]
     },
     "metadata": {},
     "output_type": "display_data"
    }
   ],
   "source": [
    "\n",
    "# Visualize the image\n",
    "# True color visualization (bands 4=Red, 3=Green, 2=Blue)\n",
    "vis_params = {\n",
    "    'bands': ['B4', 'B3', 'B2'],\n",
    "    'min': 0,\n",
    "    'max': 3000,\n",
    "    'gamma': 1.4\n",
    "}\n",
    "\n",
    "# Take the first image from the summer 2019 collection\n",
    "una_imagen_2019 = ee.Image(verano_2019_collection.first())\n",
    "\n",
    "# Calculate NDVI\n",
    "ndvi_2019 = una_imagen_2019.normalizedDifference(['B8', 'B4']).rename('NDVI')\n",
    "\n",
    "# Visualization: gray for low NDVI (<0.2), green gradient for high NDVI\n",
    "ndvi_vis = {\n",
    "    'min': 0.0,\n",
    "    'max': 1.0,\n",
    "    'palette': ['black', 'green', 'lightgreen', 'white']\n",
    "}\n",
    "\n",
    "m = geemap.Map(center=[37.75, -0.85], zoom=11)\n",
    "m.addLayer(ndvi_2019, ndvi_vis, 'NDVI: gray=no vegetation, green=vegetation')\n",
    "m.addLayerControl()\n",
    "display(m)"
   ]
  },
  {
   "cell_type": "markdown",
   "id": "73cee456",
   "metadata": {},
   "source": [
    "### Pixel-wise variance map calculation\n",
    "\n",
    "To assess spatial variability in vegetation vigor, we compute the variance of the Sentinel-2 near-infrared band (B8) across the image collection for the selected period. The process involves calculating NDVI for each image, masking out non-vegetated areas, and then computing the variance only where vegetation is present. The resulting map highlights areas with greater temporal changes in vegetation, which can indicate the use of fertilizers. This is a general technique that can be further refined to improve precision, for example by adjusting the vegetation mask or analyzing specific crop types."
   ]
  },
  {
   "cell_type": "code",
   "execution_count": 5,
   "id": "79820142",
   "metadata": {},
   "outputs": [
    {
     "data": {
      "text/html": [
       "\n",
       "            <style>\n",
       "                .geemap-dark {\n",
       "                    --jp-widgets-color: white;\n",
       "                    --jp-widgets-label-color: white;\n",
       "                    --jp-ui-font-color1: white;\n",
       "                    --jp-layout-color2: #454545;\n",
       "                    background-color: #383838;\n",
       "                }\n",
       "\n",
       "                .geemap-dark .jupyter-button {\n",
       "                    --jp-layout-color3: #383838;\n",
       "                }\n",
       "\n",
       "                .geemap-colab {\n",
       "                    background-color: var(--colab-primary-surface-color, white);\n",
       "                }\n",
       "\n",
       "                .geemap-colab .jupyter-button {\n",
       "                    --jp-layout-color3: var(--colab-primary-surface-color, white);\n",
       "                }\n",
       "            </style>\n",
       "            "
      ],
      "text/plain": [
       "<IPython.core.display.HTML object>"
      ]
     },
     "metadata": {},
     "output_type": "display_data"
    },
    {
     "data": {
      "application/vnd.jupyter.widget-view+json": {
       "model_id": "b47fd73fdb6740d48f78049d2842ea54",
       "version_major": 2,
       "version_minor": 0
      },
      "text/plain": [
       "Map(center=[37.75, -0.85], controls=(WidgetControl(options=['position', 'transparent_bg'], position='topright'…"
      ]
     },
     "metadata": {},
     "output_type": "display_data"
    }
   ],
   "source": [
    "# 1. Calculate NDVI for each image in the collection\n",
    "def add_ndvi(image):\n",
    "    ndvi = image.normalizedDifference(['B8', 'B4']).rename('NDVI')\n",
    "    return image.addBands(ndvi)\n",
    "\n",
    "sentinel2_ndvi_collection = sentinel2_base_collection.map(add_ndvi)\n",
    "\n",
    "# 2. Calculate the mean NDVI for the period\n",
    "ndvi_mean = sentinel2_ndvi_collection.select('NDVI').mean().clip(mar_menor_aoi)\n",
    "\n",
    "# 3. Create a mask for areas with high mean NDVI (e.g., > 0.3)\n",
    "vegetacion_mask = ndvi_mean.gt(0.25)\n",
    "\n",
    "# 4. Calculate the variance of band B8 only in vegetated areas\n",
    "varianza_b8 = sentinel2_base_collection.select('B8').reduce(ee.Reducer.variance()).clip(mar_menor_aoi)\n",
    "varianza_b8_vegetacion = varianza_b8.updateMask(vegetacion_mask)\n",
    "\n",
    "# 5. Visualize only the variance in vegetated areas\n",
    "varianza_vis = {\n",
    "    'min': 1000,\n",
    "    'max': 2500000,\n",
    "    'palette': ['lightgreen', 'green', 'darkgreen', 'black']\n",
    "}\n",
    "\n",
    "m = geemap.Map(center=[37.75, -0.85], zoom=11)\n",
    "m.addLayer(varianza_b8_vegetacion, varianza_vis, 'B8 Variance (vegetation only)')\n",
    "m.addLayerControl()\n",
    "display(m)"
   ]
  },
  {
   "cell_type": "markdown",
   "id": "50952c35",
   "metadata": {},
   "source": []
  },
  {
   "cell_type": "markdown",
   "id": "d3f912ba",
   "metadata": {},
   "source": [
    "### Field-level NDVI time series for monitoring\n",
    "\n",
    "In this final cell, we extract NDVI data for a specific agricultural field within the study area. This allows us to plot the NDVI time series and evaluate the vegetation history of the field. Such an analysis simulates a real-world use case for authorities or land managers, who may want to monitor crop health, detect anomalies, or assess compliance with agricultural practices over time."
   ]
  },
  {
   "cell_type": "code",
   "execution_count": 14,
   "id": "56b4a54f",
   "metadata": {},
   "outputs": [
    {
     "data": {
      "text/html": [
       "\n",
       "            <style>\n",
       "                .geemap-dark {\n",
       "                    --jp-widgets-color: white;\n",
       "                    --jp-widgets-label-color: white;\n",
       "                    --jp-ui-font-color1: white;\n",
       "                    --jp-layout-color2: #454545;\n",
       "                    background-color: #383838;\n",
       "                }\n",
       "\n",
       "                .geemap-dark .jupyter-button {\n",
       "                    --jp-layout-color3: #383838;\n",
       "                }\n",
       "\n",
       "                .geemap-colab {\n",
       "                    background-color: var(--colab-primary-surface-color, white);\n",
       "                }\n",
       "\n",
       "                .geemap-colab .jupyter-button {\n",
       "                    --jp-layout-color3: var(--colab-primary-surface-color, white);\n",
       "                }\n",
       "            </style>\n",
       "            "
      ],
      "text/plain": [
       "<IPython.core.display.HTML object>"
      ]
     },
     "metadata": {},
     "output_type": "display_data"
    },
    {
     "name": "stdout",
     "output_type": "stream",
     "text": [
      "['2018-01-01', '2018-01-11', '2018-01-16', '2018-01-21', '2018-01-31', '2018-02-15', '2018-02-20', '2018-03-07', '2018-03-12', '2018-03-22', '2018-03-27', '2018-04-01']\n",
      "[np.float64(-0.08328981786362773), np.float64(-0.06474972303989499), np.float64(-0.037170438896150376), np.float64(-0.03518483662586792), np.float64(-0.0008077706935749399), np.float64(-0.07180198567000204), np.float64(-0.09971659499423496), np.float64(-0.0411351667712329), np.float64(-0.09620998608894712), np.float64(-0.08058673876552158), np.float64(0.01753852212397357), np.float64(0.07114218451188951)]\n"
     ]
    },
    {
     "data": {
      "image/png": "[encoded data removed]",
      "text/plain": [
       "<Figure size 1000x500 with 1 Axes>"
      ]
     },
     "metadata": {},
     "output_type": "display_data"
    }
   ],
   "source": [
    "field_aoi = ee.Geometry.Polygon([\n",
    "    [\n",
    "    [-0.8988042244258093, 37.689694748180386],\n",
    "    [-0.8929406467702561, 37.69277176698362],\n",
    "    [-0.8908297588142571, 37.688815576499955],\n",
    "    [37.686744597528715, -0.8970389789145817],\n",
    "    [-0.8590951030363295, 37.789575370980444],\n",
    "    ]\n",
    "])\n",
    "\n",
    "import matplotlib.pyplot as plt\n",
    "\n",
    "# Set target date\n",
    "obj_date = '2018-2-19'# '2023-11-1'\n",
    "obj_date_dt = datetime.datetime.strptime(obj_date, \"%Y-%m-%d\")\n",
    "\n",
    "# Calculate start and end dates\n",
    "start_date = (obj_date_dt - datetime.timedelta(days=50)).strftime(\"%Y-%m-%d\")\n",
    "end_date = (obj_date_dt + datetime.timedelta(days=50)).strftime(\"%Y-%m-%d\")\n",
    "\n",
    "# Load Sentinel-2 collection\n",
    "sentinel2_base_collection = (\n",
    "    ee.ImageCollection('COPERNICUS/S2_SR')  # Use Sentinel-2 Surface Reflectance collection\n",
    "    .filterBounds(mar_menor_aoi)\n",
    "    .filterDate(start_date, end_date)\n",
    "    .filter(ee.Filter.lt('CLOUDY_PIXEL_PERCENTAGE', 30))  # Filter images with less than 30% clouds\n",
    ")\n",
    "\n",
    "# Calculate NDVI for each image in the collection\n",
    "def add_ndvi(image):\n",
    "    ndvi = image.normalizedDifference(['B8', 'B4']).rename('NDVI')\n",
    "    return image.addBands(ndvi)\n",
    "\n",
    "sentinel2_ndvi_collection = sentinel2_base_collection.map(add_ndvi)\n",
    "\n",
    "# Get mean NDVI for the field\n",
    "def get_ndvi_mean(image):\n",
    "    mean = image.select('NDVI').reduceRegion(\n",
    "        reducer=ee.Reducer.mean(),\n",
    "        geometry=field_aoi,\n",
    "        scale=10,\n",
    "        maxPixels=1e9\n",
    ").get('NDVI')\n",
    "    return ee.Feature(None, {\n",
    "        'date': image.date().format('YYYY-MM-dd'),\n",
    "        'ndvi': mean\n",
    "    })\n",
    "\n",
    "ndvi_time_series = sentinel2_ndvi_collection.map(get_ndvi_mean).filter(\n",
    "    ee.Filter.notNull(['ndvi'])\n",
    ")\n",
    "\n",
    "# Download NDVI and dates to Python\n",
    "ndvi_dict = ndvi_time_series.aggregate_array('ndvi').getInfo()\n",
    "dates = ndvi_time_series.aggregate_array('date').getInfo()\n",
    "\n",
    "# Create a list of unique dates and average NDVI for each date\n",
    "import numpy as np\n",
    "ndvi_means = [np.mean(ndvi_dict[i:i+2]) for i in range(0, len(ndvi_dict), 2)]\n",
    "dates_unique = [dates[i] for i in range(0, len(dates), 2)]\n",
    "\n",
    "# Print results\n",
    "print(dates_unique)\n",
    "print(ndvi_means)\n",
    "\n",
    "# Plot the grouped time series\n",
    "plt.figure(figsize=(10,5))\n",
    "plt.plot(dates_unique, ndvi_means, marker='o')\n",
    "plt.xticks(rotation=45)\n",
    "plt.xlabel('Date')\n",
    "plt.ylabel('NDVI')\n",
    "plt.title('NDVI for field of study')\n",
    "plt.grid(True)\n",
    "plt.tight_layout()\n",
    "plt.show()"
   ]
  }
 ],
 "metadata": {
  "kernelspec": {
   "display_name": "Python 3",
   "language": "python",
   "name": "python3"
  },
  "language_info": {
   "codemirror_mode": {
    "name": "ipython",
    "version": 3
   },
   "file_extension": ".py",
   "mimetype": "text/x-python",
   "name": "python",
   "nbconvert_exporter": "python",
   "pygments_lexer": "ipython3",
   "version": "3.13.7"
  }
 },
 "nbformat": 4,
 "nbformat_minor": 5
}
