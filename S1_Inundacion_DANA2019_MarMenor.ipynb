{
 "cells": [
  {
   "cell_type": "markdown",
   "id": "fd93ebfb",
   "metadata": {},
   "source": [
    "# Mapping DANA 2019 Flooding and Sediment Plume in Mar Menor using Sentinel-1 SAR"
   ]
  },
  {
   "cell_type": "markdown",
   "id": "a78a4033",
   "metadata": {},
   "source": [
    "This notebook detects flooded areas and highlights sediment plumes caused by the September 2019 DANA event in the Mar Menor region using Sentinel-1 VV backscatter. It creates before/after median composites, identifies water using a threshold, computes reflectivity change to reveal sediment-rich areas, and visualizes results on an interactive map. Earth Engine calls may take time."
   ]
  },
  {
   "cell_type": "code",
   "execution_count": 1,
   "id": "41f793f3",
   "metadata": {},
   "outputs": [],
   "source": [
    "# Imports and Earth Engine initialization\n",
    "import ee\n",
    "import geemap\n",
    "\n",
    "# Initialize Earth Engine (authenticate if needed)\n",
    "try:\n",
    "    ee.Initialize()\n",
    "except Exception:\n",
    "    ee.Authenticate()\n",
    "    ee.Initialize()\n"
   ]
  },
  {
   "cell_type": "code",
   "execution_count": 2,
   "id": "140ef5cf",
   "metadata": {},
   "outputs": [
    {
     "data": {
      "text/html": [
       "\n",
       "            <style>\n",
       "                .geemap-dark {\n",
       "                    --jp-widgets-color: white;\n",
       "                    --jp-widgets-label-color: white;\n",
       "                    --jp-ui-font-color1: white;\n",
       "                    --jp-layout-color2: #454545;\n",
       "                    background-color: #383838;\n",
       "                }\n",
       "\n",
       "                .geemap-dark .jupyter-button {\n",
       "                    --jp-layout-color3: #383838;\n",
       "                }\n",
       "\n",
       "                .geemap-colab {\n",
       "                    background-color: var(--colab-primary-surface-color, white);\n",
       "                }\n",
       "\n",
       "                .geemap-colab .jupyter-button {\n",
       "                    --jp-layout-color3: var(--colab-primary-surface-color, white);\n",
       "                }\n",
       "            </style>\n",
       "            "
      ],
      "text/plain": [
       "<IPython.core.display.HTML object>"
      ]
     },
     "metadata": {},
     "output_type": "display_data"
    }
   ],
   "source": [
    "# Analysis configuration: event periods and AOI\n",
    "# DANA peak was around 12-14 Sep 2019; we define before/after windows\n",
    "before_start = '2019-09-01'\n",
    "before_end = '2019-09-10'\n",
    "after_start = '2019-09-14'\n",
    "after_end = '2019-09-21'\n",
    "\n",
    "# Area of interest covering Campo de Cartagena and the Mar Menor (polygon)\n",
    "aoi = ee.Geometry.Polygon([\n",
    "    [-0.7525010397061688, 37.88948999937322],\n",
    "    [-0.8060344170800802, 37.89141594762948],\n",
    "    [-0.9369668300256822, 37.84237282648271],\n",
    "    [-1.0082296404312558, 37.769738583926646],\n",
    "    [-1.0376769713508793, 37.74073202619191],\n",
    "    [-1.0341435939769678, 37.68720630363401],\n",
    "    [-1.0102841247516163, 37.65777126035968],\n",
    "    [-0.9189328193280476, 37.55604663597647],\n",
    "    [-0.718559540295739, 37.60522151419349],\n",
    "    [-0.6905554748006199, 37.63584518455255],\n",
    "])\n",
    "\n",
    "# Map display parameters\n",
    "map_center = [37.7, -0.95]\n",
    "zoom_level = 11\n"
   ]
  },
  {
   "cell_type": "code",
   "execution_count": 3,
   "id": "d3bbbf0c",
   "metadata": {},
   "outputs": [
    {
     "data": {
      "text/html": [
       "\n",
       "            <style>\n",
       "                .geemap-dark {\n",
       "                    --jp-widgets-color: white;\n",
       "                    --jp-widgets-label-color: white;\n",
       "                    --jp-ui-font-color1: white;\n",
       "                    --jp-layout-color2: #454545;\n",
       "                    background-color: #383838;\n",
       "                }\n",
       "\n",
       "                .geemap-dark .jupyter-button {\n",
       "                    --jp-layout-color3: #383838;\n",
       "                }\n",
       "\n",
       "                .geemap-colab {\n",
       "                    background-color: var(--colab-primary-surface-color, white);\n",
       "                }\n",
       "\n",
       "                .geemap-colab .jupyter-button {\n",
       "                    --jp-layout-color3: var(--colab-primary-surface-color, white);\n",
       "                }\n",
       "            </style>\n",
       "            "
      ],
      "text/plain": [
       "<IPython.core.display.HTML object>"
      ]
     },
     "metadata": {},
     "output_type": "display_data"
    }
   ],
   "source": [
    "# Load and filter Sentinel-1 collection (VV polarization, IW mode)\n",
    "sentinel1 = (ee.ImageCollection('COPERNICUS/S1_GRD')\n",
    "            .filterBounds(aoi)\n",
    "            .filter(ee.Filter.listContains('transmitterReceiverPolarisation', 'VV'))\n",
    "            .filter(ee.Filter.eq('instrumentMode', 'IW')))\n",
    "\n",
    "# Quick check (optional): print collection size\n",
    "# print('Sentinel-1 scenes in AOI:', sentinel1.size().getInfo())\n"
   ]
  },
  {
   "cell_type": "code",
   "execution_count": 4,
   "id": "cfacd187",
   "metadata": {},
   "outputs": [
    {
     "data": {
      "text/html": [
       "\n",
       "            <style>\n",
       "                .geemap-dark {\n",
       "                    --jp-widgets-color: white;\n",
       "                    --jp-widgets-label-color: white;\n",
       "                    --jp-ui-font-color1: white;\n",
       "                    --jp-layout-color2: #454545;\n",
       "                    background-color: #383838;\n",
       "                }\n",
       "\n",
       "                .geemap-dark .jupyter-button {\n",
       "                    --jp-layout-color3: #383838;\n",
       "                }\n",
       "\n",
       "                .geemap-colab {\n",
       "                    background-color: var(--colab-primary-surface-color, white);\n",
       "                }\n",
       "\n",
       "                .geemap-colab .jupyter-button {\n",
       "                    --jp-layout-color3: var(--colab-primary-surface-color, white);\n",
       "                }\n",
       "            </style>\n",
       "            "
      ],
      "text/plain": [
       "<IPython.core.display.HTML object>"
      ]
     },
     "metadata": {},
     "output_type": "display_data"
    }
   ],
   "source": [
    "# Create median composites for before and after periods and clip to the AOI\n",
    "median_before = sentinel1.filterDate(before_start, before_end).median().clip(aoi)\n",
    "median_after = sentinel1.filterDate(after_start, after_end).median().clip(aoi)\n",
    "\n",
    "# Visualization params for VV backscatter (grayscale)\n",
    "vv_vis = {'min': -25, 'max': 0}\n"
   ]
  },
  {
   "cell_type": "markdown",
   "id": "cb5c030d",
   "metadata": {},
   "source": [
    "### Flood detection (water mask)\n",
    "Water surfaces usually return low VV backscatter; a simple threshold can detect calm water bodies. The threshold here is a heuristic and may need tuning for different dates or incidence angles."
   ]
  },
  {
   "cell_type": "code",
   "execution_count": 5,
   "id": "51e0d82c",
   "metadata": {},
   "outputs": [
    {
     "data": {
      "text/html": [
       "\n",
       "            <style>\n",
       "                .geemap-dark {\n",
       "                    --jp-widgets-color: white;\n",
       "                    --jp-widgets-label-color: white;\n",
       "                    --jp-ui-font-color1: white;\n",
       "                    --jp-layout-color2: #454545;\n",
       "                    background-color: #383838;\n",
       "                }\n",
       "\n",
       "                .geemap-dark .jupyter-button {\n",
       "                    --jp-layout-color3: #383838;\n",
       "                }\n",
       "\n",
       "                .geemap-colab {\n",
       "                    background-color: var(--colab-primary-surface-color, white);\n",
       "                }\n",
       "\n",
       "                .geemap-colab .jupyter-button {\n",
       "                    --jp-layout-color3: var(--colab-primary-surface-color, white);\n",
       "                }\n",
       "            </style>\n",
       "            "
      ],
      "text/plain": [
       "<IPython.core.display.HTML object>"
      ]
     },
     "metadata": {},
     "output_type": "display_data"
    }
   ],
   "source": [
    "# Flood detection using a threshold on the 'after' composite\n",
    "water_threshold = -16  # dB, heuristic\n",
    "flood_mask = median_after.select('VV').lt(water_threshold).selfMask()\n",
    "\n",
    "# Water layer visualization (blue)\n",
    "water_vis = {'palette': ['0000FF']}"
   ]
  },
  {
   "cell_type": "markdown",
   "id": "724a5520",
   "metadata": {},
   "source": [
    "### Sediment plume (reflectivity change)\n",
    "Sediment-laden water tends to show increased radar backscatter (more roughness/returns). We compute after - before on VV to highlight areas with increased reflectivity likely related to sediments."
   ]
  },
  {
   "cell_type": "code",
   "execution_count": 6,
   "id": "943a3307",
   "metadata": {},
   "outputs": [
    {
     "data": {
      "text/html": [
       "\n",
       "            <style>\n",
       "                .geemap-dark {\n",
       "                    --jp-widgets-color: white;\n",
       "                    --jp-widgets-label-color: white;\n",
       "                    --jp-ui-font-color1: white;\n",
       "                    --jp-layout-color2: #454545;\n",
       "                    background-color: #383838;\n",
       "                }\n",
       "\n",
       "                .geemap-dark .jupyter-button {\n",
       "                    --jp-layout-color3: #383838;\n",
       "                }\n",
       "\n",
       "                .geemap-colab {\n",
       "                    background-color: var(--colab-primary-surface-color, white);\n",
       "                }\n",
       "\n",
       "                .geemap-colab .jupyter-button {\n",
       "                    --jp-layout-color3: var(--colab-primary-surface-color, white);\n",
       "                }\n",
       "            </style>\n",
       "            "
      ],
      "text/plain": [
       "<IPython.core.display.HTML object>"
      ]
     },
     "metadata": {},
     "output_type": "display_data"
    }
   ],
   "source": [
    "# Compute VV reflectivity change (after - before)\n",
    "vv_change = median_after.select('VV').subtract(median_before.select('VV'))\n",
    "\n",
    "# Visualization for change: black->white->red (increase shows in red)\n",
    "change_vis = {'min': -3, 'max': 10, 'palette': ['000000', 'FFFFFF', 'FF0000']}"
   ]
  },
  {
   "cell_type": "code",
   "execution_count": 7,
   "id": "fc91b74a",
   "metadata": {},
   "outputs": [
    {
     "data": {
      "text/html": [
       "\n",
       "            <style>\n",
       "                .geemap-dark {\n",
       "                    --jp-widgets-color: white;\n",
       "                    --jp-widgets-label-color: white;\n",
       "                    --jp-ui-font-color1: white;\n",
       "                    --jp-layout-color2: #454545;\n",
       "                    background-color: #383838;\n",
       "                }\n",
       "\n",
       "                .geemap-dark .jupyter-button {\n",
       "                    --jp-layout-color3: #383838;\n",
       "                }\n",
       "\n",
       "                .geemap-colab {\n",
       "                    background-color: var(--colab-primary-surface-color, white);\n",
       "                }\n",
       "\n",
       "                .geemap-colab .jupyter-button {\n",
       "                    --jp-layout-color3: var(--colab-primary-surface-color, white);\n",
       "                }\n",
       "            </style>\n",
       "            "
      ],
      "text/plain": [
       "<IPython.core.display.HTML object>"
      ]
     },
     "metadata": {},
     "output_type": "display_data"
    },
    {
     "data": {
      "application/vnd.jupyter.widget-view+json": {
       "model_id": "7f224c98a59d4d67a0923b83a6b30ef0",
       "version_major": 2,
       "version_minor": 0
      },
      "text/plain": [
       "Map(center=[37.7, -0.95], controls=(WidgetControl(options=['position', 'transparent_bg'], position='topright',…"
      ]
     },
     "metadata": {},
     "output_type": "display_data"
    }
   ],
   "source": [
    "# Interactive map: show VV composites, flood mask and VV change\n",
    "m = geemap.Map(center=map_center, zoom=zoom_level, height='800px', width='100%')\n",
    "m.add_basemap('SATELLITE')\n",
    "# Add before/after VV composites for context (optional)\n",
    "m.addLayer(median_before.select('VV'), vv_vis, 'VV - before')\n",
    "m.addLayer(median_after.select('VV'), vv_vis, 'VV - after')\n",
    "# Add flood mask and change layer\n",
    "m.addLayer(flood_mask, water_vis, 'Flooded areas (heuristic)')\n",
    "m.addLayer(vv_change, change_vis, 'VV change (after - before)')\n",
    "m.addLayerControl()\n",
    "display(m)\n"
   ]
  },
  {
   "cell_type": "markdown",
   "id": "e8e48bc5",
   "metadata": {},
   "source": [
    "Color code interpretation (VV change: after - before):\n",
    "- Dark/black: areas where radar reflectivity decreased or remained stable; on land this indicates little impact or rapid drainage, while over water it may indicate calm, clear water.\n",
    "- White/light gray: moderate increase in reflectivity.\n",
    "- Red: strong and significant increase in reflectivity after the DANA; this is the primary indicator of event impact.\n",
    "\n",
    "Key observations visible in the map:\n",
    "1) Basin impact (Rambla del Albujón and Campo de Cartagena): the basin area shows a characteristic severe flood pattern with scattered red pixels indicating widespread soil saturation and small pools of water and mud. Linear dark features (roads, parcel boundaries) contrast with surrounding red areas, suggesting some infrastructure or elevated zones remained less affected or drained faster.\n",
    "2) Sediment plume in the Mar Menor: at the Albujón mouth there is a dense red concentration extending from the coast into the lagoon. This red patch over water indicates the sediment plume — a large discharge of turbid, sediment-laden freshwater that increased surface roughness and radar backscatter, clearly delimiting the plume's initial extent after the DANA."
   ]
  },
  {
   "cell_type": "markdown",
   "id": "0c2669fe",
   "metadata": {},
   "source": [
    "### Notes and next steps\n",
    "This pipeline uses simple heuristics (thresholds and median composites) that work as a fast first pass for a prototype. For production use we should consider: incidence-angle normalization, speckle filtering, VV/VH ratios or multi-temporal change detection algorithms, and validation with in-situ or optical imagery."
   ]
  }
 ],
 "metadata": {
  "kernelspec": {
   "display_name": "Python (jupyter_env)",
   "language": "python",
   "name": "jupyter_env"
  },
  "language_info": {
   "codemirror_mode": {
    "name": "ipython",
    "version": 3
   },
   "file_extension": ".py",
   "mimetype": "text/x-python",
   "name": "python",
   "nbconvert_exporter": "python",
   "pygments_lexer": "ipython3",
   "version": "3.11.11"
  }
 },
 "nbformat": 4,
 "nbformat_minor": 5
}
